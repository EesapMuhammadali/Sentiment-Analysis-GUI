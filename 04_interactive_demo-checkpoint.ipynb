{
 "cells": [
  {
   "cell_type": "code",
   "execution_count": 3,
   "id": "c3019d0d-0acf-466a-bbaa-324cae70987d",
   "metadata": {},
   "outputs": [
    {
     "name": "stdout",
     "output_type": "stream",
     "text": [
      "✅ Model and vectorizer loaded successfully!\n"
     ]
    }
   ],
   "source": [
    "import pandas as pd\n",
    "import numpy as np\n",
    "import joblib\n",
    "import re\n",
    "import nltk\n",
    "from nltk.tokenize import word_tokenize\n",
    "from nltk.corpus import stopwords\n",
    "from nltk.stem import WordNetLemmatizer\n",
    "import ipywidgets as widgets\n",
    "from IPython.display import display, clear_output\n",
    "import matplotlib.pyplot as plt\n",
    "\n",
    "try:\n",
    "    model = joblib.load('models/best_sentiment_model_logistic_regression.pkl')\n",
    "    tfidf = joblib.load('models/tfidf_vectorizer.pkl')\n",
    "    print(\"✅ Model and vectorizer loaded successfully!\")\n",
    "except:\n",
    "    print(\"❌ Could not load model. Make sure you've run the training notebook first.\")"
   ]
  },
  {
   "cell_type": "code",
   "execution_count": 5,
   "id": "2ce04a57-b27c-4d07-be24-d7fcdc638c77",
   "metadata": {},
   "outputs": [],
   "source": [
    "def preprocess_text(text):\n",
    "    \"\"\"Preprocess text for prediction\"\"\"\n",
    "    text = text.lower()\n",
    "    text = re.sub(r'<[^>]+>', '', text)\n",
    "    text = re.sub(r'http\\S+|www\\S+', '', text)\n",
    "    text = re.sub(r'[^a-zA-Z\\s]', '', text)\n",
    "    text = re.sub(r'\\s+', ' ', text).strip()\n",
    "    tokens = word_tokenize(text)\n",
    "    stop_words = set(stopwords.words('english'))\n",
    "    tokens = [token for token in tokens if token not in stop_words and len(token) > 2]\n",
    "    lemmatizer = WordNetLemmatizer()\n",
    "    tokens = [lemmatizer.lemmatize(token) for token in tokens]\n",
    "    return ' '.join(tokens)"
   ]
  },
  {
   "cell_type": "code",
   "execution_count": 6,
   "id": "7c502221-760d-402f-ae52-c272fcfa8848",
   "metadata": {},
   "outputs": [
    {
     "name": "stdout",
     "output_type": "stream",
     "text": [
      "Prediction: ('negative', np.float64(0.9981920416069534), np.float64(0.9981920416069534), np.float64(0.001807958393046624))\n"
     ]
    }
   ],
   "source": [
    "def predict_sentiment(text):\n",
    "    \"\"\"Predict sentiment of given text\"\"\"\n",
    "    if not text.strip():\n",
    "        return \"Please enter some text\", 0.0, \"neutral\"\n",
    "    processed_text = preprocess_text(text)\n",
    "    text_tfidf = tfidf.transform([processed_text])\n",
    "    prediction = model.predict(text_tfidf)[0]\n",
    "    probabilities = model.predict_proba(text_tfidf)[0]\n",
    "    confidence = max(probabilities)\n",
    "    prob_negative = probabilities[0] if model.classes_[0] == 'negative' else probabilities[1]\n",
    "    prob_positive = probabilities[1] if model.classes_[1] == 'positive' else probabilities[0]\n",
    "    return prediction, confidence, prob_negative, prob_positive\n",
    "\n",
    "test_result = predict_sentiment(\"This movie was terrible and boring!\")\n",
    "print(f\"Prediction: {test_result}\")"
   ]
  },
  {
   "cell_type": "code",
   "execution_count": 8,
   "id": "0a8a58ae-e7f3-4c83-90c7-57991d6e6a30",
   "metadata": {},
   "outputs": [
    {
     "data": {
      "application/vnd.jupyter.widget-view+json": {
       "model_id": "595cac82a162485cb00bd4e40abd1952",
       "version_major": 2,
       "version_minor": 0
      },
      "text/plain": [
       "VBox(children=(HTML(value='<h2>🤖 Interactive Sentiment Analysis Tool</h2>'), Textarea(value='Enter your text h…"
      ]
     },
     "metadata": {},
     "output_type": "display_data"
    }
   ],
   "source": [
    "text_input = widgets.Textarea(\n",
    "    value='Enter your text here...',\n",
    "    placeholder='Type your review or text here',\n",
    "    description='Text:',\n",
    "    layout=widgets.Layout(width='100%', height='100px')\n",
    ")\n",
    "\n",
    "predict_button = widgets.Button(\n",
    "    description='🔍 Analyze Sentiment',\n",
    "    button_style='primary',\n",
    "    layout=widgets.Layout(width='200px')\n",
    ")\n",
    "\n",
    "output_area = widgets.Output()\n",
    "\n",
    "def on_predict_button_clicked(b):\n",
    "    with output_area:\n",
    "        clear_output()\n",
    "        text = text_input.value\n",
    "        if text and text != 'Enter your text here...':\n",
    "            prediction, confidence, prob_neg, prob_pos = predict_sentiment(text)\n",
    "            print(\"🎯 SENTIMENT ANALYSIS RESULTS\")\n",
    "            print(\"=\" * 40)\n",
    "            print(f\"📝 Input Text: {text[:100]}{'...' if len(text) > 100 else ''}\")\n",
    "            print(f\"️ Predicted Sentiment: {prediction.upper()}\")\n",
    "            print(f\"🎲 Confidence: {confidence:.2%}\")\n",
    "            print(f\"📊 Probability Breakdown:\")\n",
    "            print(f\" 😊 Positive: {prob_pos:.2%}\")\n",
    "            print(f\" 😞 Negative: {prob_neg:.2%}\")\n",
    "\n",
    "            fig, (ax1, ax2) = plt.subplots(1, 2, figsize=(12, 4))\n",
    "            colors = ['red' if prediction == 'negative' else 'green']\n",
    "            ax1.barh(['Confidence'], [confidence], color=colors)\n",
    "            ax1.set_xlim(0, 1)\n",
    "            ax1.set_title('Prediction Confidence')\n",
    "            ax1.set_xlabel('Confidence Score')\n",
    "\n",
    "            sentiments = ['Negative', 'Positive']\n",
    "            probabilities = [prob_neg, prob_pos]\n",
    "            colors = ['lightcoral', 'lightgreen']\n",
    "            bars = ax2.bar(sentiments, probabilities, color=colors)\n",
    "            ax2.set_ylim(0, 1)\n",
    "            ax2.set_title('Sentiment Probabilities')\n",
    "            ax2.set_ylabel('Probability')\n",
    "\n",
    "            for bar, prob in zip(bars, probabilities):\n",
    "                height = bar.get_height()\n",
    "                ax2.text(bar.get_x() + bar.get_width()/2., height + 0.01,\n",
    "                         f'{prob:.2%}', ha='center', va='bottom')\n",
    "\n",
    "            plt.tight_layout()\n",
    "            plt.show()\n",
    "        else:\n",
    "            print(\"⚠️ Please enter some text to analyze!\")\n",
    "\n",
    "predict_button.on_click(on_predict_button_clicked)\n",
    "\n",
    "display(widgets.VBox([\n",
    "    widgets.HTML(\"<h2>🤖 Interactive Sentiment Analysis Tool</h2>\"),\n",
    "    text_input,\n",
    "    predict_button,\n",
    "    output_area\n",
    "]))"
   ]
  },
  {
   "cell_type": "code",
   "execution_count": 9,
   "id": "9095606f-1057-4d89-9477-670e0dc06f11",
   "metadata": {},
   "outputs": [
    {
     "name": "stdout",
     "output_type": "stream",
     "text": [
      "🧪 BATCH TESTING WITH SAMPLE TEXTS\n",
      "==================================================\n",
      " 1. 😊 POSITIVE (90.48%) - This movie was absolutely fantastic! Great acting and storyl...\n",
      " 2. 😞 NEGATIVE (99.82%) - Terrible film, complete waste of time and money.\n",
      " 3. 😞 NEGATIVE (99.55%) - The movie was okay, nothing special but not bad either.\n",
      " 4. 😊 POSITIVE (56.29%) - I loved the cinematography but the plot was confusing.\n",
      " 5. 😞 NEGATIVE (97.71%) - Worst movie I've ever seen, don't watch it!\n",
      " 6. 😊 POSITIVE (98.95%) - Amazing performances by all actors, highly recommended!\n",
      " 7. 😞 NEGATIVE (91.62%) - The movie had its moments but overall disappointing.\n",
      " 8. 😊 POSITIVE (97.05%) - Brilliant direction and excellent screenplay.\n",
      " 9. 😞 NEGATIVE (98.92%) - Boring and predictable, fell asleep halfway through.\n",
      "10. 😊 POSITIVE (92.83%) - A masterpiece of modern cinema, truly inspiring!\n"
     ]
    }
   ],
   "source": [
    "sample_texts = [\n",
    "    \"This movie was absolutely fantastic! Great acting and storyline.\",\n",
    "    \"Terrible film, complete waste of time and money.\",\n",
    "    \"The movie was okay, nothing special but not bad either.\",\n",
    "    \"I loved the cinematography but the plot was confusing.\",\n",
    "    \"Worst movie I've ever seen, don't watch it!\",\n",
    "    \"Amazing performances by all actors, highly recommended!\",\n",
    "    \"The movie had its moments but overall disappointing.\",\n",
    "    \"Brilliant direction and excellent screenplay.\",\n",
    "    \"Boring and predictable, fell asleep halfway through.\",\n",
    "    \"A masterpiece of modern cinema, truly inspiring!\"\n",
    "]\n",
    "\n",
    "print(\"🧪 BATCH TESTING WITH SAMPLE TEXTS\")\n",
    "print(\"=\" * 50)\n",
    "results = []\n",
    "\n",
    "for i, text in enumerate(sample_texts, 1):\n",
    "    prediction, confidence, prob_neg, prob_pos = predict_sentiment(text)\n",
    "    results.append({\n",
    "        'Text': text[:50] + '...' if len(text) > 50 else text,\n",
    "        'Prediction': prediction,\n",
    "        'Confidence': f\"{confidence:.2%}\",\n",
    "        'Positive_Prob': f\"{prob_pos:.2%}\",\n",
    "        'Negative_Prob': f\"{prob_neg:.2%}\"\n",
    "    })\n",
    "    emoji = \"😊\" if prediction == 'positive' else \"😞\"\n",
    "    print(f\"{i:2d}. {emoji} {prediction.upper()} ({confidence:.2%}) - \"\n",
    "          f\"{text[:60]}{'...' if len(text) > 60 else ''}\")\n",
    "results_df = pd.DataFrame(results)\n",
    "print(f\"\\n📊 DETAILED RESULTS:\")\n",
    "display(results_df)"
   ]
  },
  {
   "cell_type": "code",
   "execution_count": null,
   "id": "0f7db87c-41c8-46fc-a2f5-9cde7d01cae9",
   "metadata": {},
   "outputs": [],
   "source": []
  }
 ],
 "metadata": {
  "kernelspec": {
   "display_name": "Python 3 (ipykernel)",
   "language": "python",
   "name": "python3"
  },
  "language_info": {
   "codemirror_mode": {
    "name": "ipython",
    "version": 3
   },
   "file_extension": ".py",
   "mimetype": "text/x-python",
   "name": "python",
   "nbconvert_exporter": "python",
   "pygments_lexer": "ipython3",
   "version": "3.13.7"
  }
 },
 "nbformat": 4,
 "nbformat_minor": 5
}
